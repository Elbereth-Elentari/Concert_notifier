{
  "nbformat": 4,
  "nbformat_minor": 0,
  "metadata": {
    "colab": {
      "name": "Scrape_concerts.ipynb",
      "provenance": [],
      "mount_file_id": "18Ec2d3hIfF77qZ54lOu5fHLpB5bUq1TH",
      "authorship_tag": "ABX9TyNCnPmkhiG2kmL3GCgkQcFS",
      "include_colab_link": true
    },
    "kernelspec": {
      "name": "python3",
      "display_name": "Python 3"
    }
  },
  "cells": [
    {
      "cell_type": "markdown",
      "metadata": {
        "id": "view-in-github",
        "colab_type": "text"
      },
      "source": [
        "<a href=\"https://colab.research.google.com/github/Elbereth-Elentari/Concert_notifier/blob/master/Scrape_concerts.ipynb\" target=\"_parent\"><img src=\"https://colab.research.google.com/assets/colab-badge.svg\" alt=\"Open In Colab\"/></a>"
      ]
    },
    {
      "cell_type": "code",
      "metadata": {
        "id": "sjIaamt2MiM6",
        "outputId": "8cc6b8b5-3b6f-41df-fdaf-59e5a7ae7f47",
        "colab": {
          "base_uri": "https://localhost:8080/",
          "height": 391
        }
      },
      "source": [
        "!pip3 install facebook-scraper\n",
        "from facebook_scraper import get_posts\n",
        "import datetime\n",
        "import re\n",
        "from IPython.display import clear_output"
      ],
      "execution_count": 45,
      "outputs": [
        {
          "output_type": "stream",
          "text": [
            "Requirement already satisfied: facebook-scraper in /usr/local/lib/python3.6/dist-packages (0.2.12)\n",
            "Requirement already satisfied: html2text<2021.0.0,>=2020.1.16 in /usr/local/lib/python3.6/dist-packages (from facebook-scraper) (2020.1.16)\n",
            "Requirement already satisfied: requests-html<0.11.0,>=0.10.0 in /usr/local/lib/python3.6/dist-packages (from facebook-scraper) (0.10.0)\n",
            "Requirement already satisfied: parse in /usr/local/lib/python3.6/dist-packages (from requests-html<0.11.0,>=0.10.0->facebook-scraper) (1.18.0)\n",
            "Requirement already satisfied: pyquery in /usr/local/lib/python3.6/dist-packages (from requests-html<0.11.0,>=0.10.0->facebook-scraper) (1.4.1)\n",
            "Requirement already satisfied: w3lib in /usr/local/lib/python3.6/dist-packages (from requests-html<0.11.0,>=0.10.0->facebook-scraper) (1.22.0)\n",
            "Requirement already satisfied: pyppeteer>=0.0.14 in /usr/local/lib/python3.6/dist-packages (from requests-html<0.11.0,>=0.10.0->facebook-scraper) (0.2.2)\n",
            "Requirement already satisfied: requests in /usr/local/lib/python3.6/dist-packages (from requests-html<0.11.0,>=0.10.0->facebook-scraper) (2.23.0)\n",
            "Requirement already satisfied: bs4 in /usr/local/lib/python3.6/dist-packages (from requests-html<0.11.0,>=0.10.0->facebook-scraper) (0.0.1)\n",
            "Requirement already satisfied: fake-useragent in /usr/local/lib/python3.6/dist-packages (from requests-html<0.11.0,>=0.10.0->facebook-scraper) (0.1.11)\n",
            "Requirement already satisfied: cssselect>0.7.9 in /usr/local/lib/python3.6/dist-packages (from pyquery->requests-html<0.11.0,>=0.10.0->facebook-scraper) (1.1.0)\n",
            "Requirement already satisfied: lxml>=2.1 in /usr/local/lib/python3.6/dist-packages (from pyquery->requests-html<0.11.0,>=0.10.0->facebook-scraper) (4.2.6)\n",
            "Requirement already satisfied: six>=1.4.1 in /usr/local/lib/python3.6/dist-packages (from w3lib->requests-html<0.11.0,>=0.10.0->facebook-scraper) (1.15.0)\n",
            "Requirement already satisfied: pyee<8.0.0,>=7.0.1 in /usr/local/lib/python3.6/dist-packages (from pyppeteer>=0.0.14->requests-html<0.11.0,>=0.10.0->facebook-scraper) (7.0.4)\n",
            "Requirement already satisfied: appdirs<2.0.0,>=1.4.3 in /usr/local/lib/python3.6/dist-packages (from pyppeteer>=0.0.14->requests-html<0.11.0,>=0.10.0->facebook-scraper) (1.4.4)\n",
            "Requirement already satisfied: tqdm<5.0.0,>=4.42.1 in /usr/local/lib/python3.6/dist-packages (from pyppeteer>=0.0.14->requests-html<0.11.0,>=0.10.0->facebook-scraper) (4.50.0)\n",
            "Requirement already satisfied: websockets<9.0,>=8.1 in /usr/local/lib/python3.6/dist-packages (from pyppeteer>=0.0.14->requests-html<0.11.0,>=0.10.0->facebook-scraper) (8.1)\n",
            "Requirement already satisfied: urllib3<2.0.0,>=1.25.8 in /usr/local/lib/python3.6/dist-packages (from pyppeteer>=0.0.14->requests-html<0.11.0,>=0.10.0->facebook-scraper) (1.25.10)\n",
            "Requirement already satisfied: certifi>=2017.4.17 in /usr/local/lib/python3.6/dist-packages (from requests->requests-html<0.11.0,>=0.10.0->facebook-scraper) (2020.6.20)\n",
            "Requirement already satisfied: idna<3,>=2.5 in /usr/local/lib/python3.6/dist-packages (from requests->requests-html<0.11.0,>=0.10.0->facebook-scraper) (2.10)\n",
            "Requirement already satisfied: chardet<4,>=3.0.2 in /usr/local/lib/python3.6/dist-packages (from requests->requests-html<0.11.0,>=0.10.0->facebook-scraper) (3.0.4)\n",
            "Requirement already satisfied: beautifulsoup4 in /usr/local/lib/python3.6/dist-packages (from bs4->requests-html<0.11.0,>=0.10.0->facebook-scraper) (4.6.3)\n"
          ],
          "name": "stdout"
        }
      ]
    },
    {
      "cell_type": "code",
      "metadata": {
        "id": "1rbqeL8TPeRj",
        "outputId": "4d11390b-aa6a-4261-904e-48a5048324b2",
        "colab": {
          "base_uri": "https://localhost:8080/",
          "height": 1000
        }
      },
      "source": [
        "max_days = int(input('How old posts, in days?\\n'))\n",
        "clear_output()\n",
        "\n",
        "fb_pages = ['siedlce.katedra', 'zsmsiedlce', 'Święta-Lipka-Sanktuarium-Maryjne-255326541188166',\n",
        "            'Parafia-archikatedralna-św-Jana-Chrzciciela-w-Warszawie-113494383357669',\n",
        "            'ParafiaKatedralna', 'opactwo', 'JezuiciLaskawa', 'UMFChopin',\n",
        "            'fundacjasakura', 'polskojaponska', 'Japonistyczne-Koło-Naukowe-Maru-283949834998142',\n",
        "            'BibliotekaUniwersyteckawWarszawie', 'fanpageUW', 'nippoils']\n",
        "\n",
        "keywords = [r'\\bkoncert', r'\\bchór']\n",
        "\n",
        "time_now = datetime.datetime.now()\n",
        "\n",
        "for page in fb_pages:\n",
        "    for post in get_posts(page):\n",
        "        text = post['text']\n",
        "        if post['time'] is not None and any(re.search(word, text.lower()) for word in keywords):\n",
        "            published_ago = (time_now - post['time']).days\n",
        "            if published_ago <= max_days:\n",
        "                print(f'Published {published_ago} days ago by {page}\\n')\n",
        "                print(text.replace('\\n\\n', '\\n'), '\\n')\n",
        "\n",
        "                link = post['link']\n",
        "                if link is not None:\n",
        "                    print(link)\n",
        "\n",
        "                post_url = post['post_url']\n",
        "                if post_url is not None:\n",
        "                    print(post_url)\n",
        "\n",
        "                print('=============================================================================================\\n')"
      ],
      "execution_count": 46,
      "outputs": [
        {
          "output_type": "stream",
          "text": [
            "Published 3 days ago by Święta-Lipka-Sanktuarium-Maryjne-255326541188166\n",
            "\n",
            "Chór Świętolipski\n",
            "September 27 at 1:51 PM ·\n",
            "Dzisiaj mamy warsztaty wokalne. Szkolimy się pod czujnym okiem i uchem Macieja Nerkowskiego. \n",
            "\n",
            "https://facebook.com/story.php?story_fbid=3287850707935719&id=255326541188166\n",
            "=============================================================================================\n",
            "\n",
            "Published 8 days ago by Święta-Lipka-Sanktuarium-Maryjne-255326541188166\n",
            "\n",
            "YOUTUBE.COM\n",
            "Mikołaj Gomółka, Nieście chwałę mocarze, śpiewa Chór Świętolipski \n",
            "\n",
            "https://www.youtube.com/watch?v=WveBJ7MQQMs&feature=share\n",
            "https://facebook.com/story.php?story_fbid=3271484866238970&id=255326541188166\n",
            "=============================================================================================\n",
            "\n",
            "Published 8 days ago by Święta-Lipka-Sanktuarium-Maryjne-255326541188166\n",
            "\n",
            "YOUTUBE.COM\n",
            "C. Saint-Saens, Tollite Hostias, Chór Świętolipski \n",
            "\n",
            "https://www.youtube.com/watch?v=9NOewscNXBI&feature=share\n",
            "https://facebook.com/story.php?story_fbid=3271444882909635&id=255326541188166\n",
            "=============================================================================================\n",
            "\n",
            "Published 11 days ago by opactwo\n",
            "\n",
            "Opowiadano o abba Sisoesie, że kiedy miał umierać i ojcowie siedzieli wokół niego, jego twarz zajaśniała jak słońce, i powiedział: „Oto przyszedł abba Antoni”. A po chwili powiedział: „Oto przyszedł chór proroków”. I jeszcze bardziej zajaśniała jego twarz, i powiedział: „Oto przyszedł chór apostołów”. I znowu ze zdwojoną siłą zajaśniała jego twarz i wydawało się, że z kimś rozmawia. Starcy go zapytali: „Z kim mówisz, ojcze?” On odpowiedział: „Oto przyszli aniołowie, żeby mnie zabrać, a ja ich proszę, żebym mógł jeszcze zostać i trochę odpokutować”. Starcy mu powiedzieli: „Ojcze, nie potrzebujesz pokuty!” Odrzekł im starzec: „Zaprawdę, nie mam świadomości, żebym chociaż początek uczynił”. I… More \n",
            "\n",
            "https://facebook.com/story.php?story_fbid=3538058816218657&id=161938650497374\n",
            "=============================================================================================\n",
            "\n",
            "Published 15 days ago by opactwo\n",
            "\n",
            "Małgorzata Borkowska OSB: …zaczął się już w wieku trzynastym, od początku istnienia klasztoru cysterek. Ponieważ to były właśnie cysterki, ich śpiewy chórowe były krótsze, a melodie nieco prostsze niż w równolegle istniejących klasztorach benedyktyńskich. Po ich modlitwie pozostał nam jeden wspaniały zabytek i jedna zabawna historyjka. Tym zabytkiem są dwa egzemplarze Graduału, to jest księgi śpiewów mszalnych, każdy po dwa tomy: na pergaminie oczywiście i zdobione prześlicznym filigranowym ornamentem, chociaż (to także ta cysterska prostota) bez żadnych miniatur ani scen w inicjałach. A historyjka jest następująca...\n",
            "CSPB.PL\n",
            "Chorał gregoriański w Żarnowcu… \n",
            "\n",
            "https://cspb.pl/choral-gregorianski-w-zarnowcu/\n",
            "https://facebook.com/story.php?story_fbid=3527929010564971&id=161938650497374\n",
            "=============================================================================================\n",
            "\n",
            "Published 20 days ago by opactwo\n",
            "\n",
            "13 września o godz. 19:00 zapraszamy na finałowy koncert festiwalu OrgaNOWE Brzmienia (Parafia Matki Bożej Królowej Polski w Warszawie-Aninie). W wykonaniu ojca Bernarda Sawickiego OSB oraz Ewy i Michała Sobierów usłyszymy m.in. dzieła Sawy, Widora, a także kompozycje ojca Bernarda na motywach pieśni maryjnych. Koncert będzie transmitowany na parafialnym kanale na Youtubie (YouTube.com/parafiaanin). Koncert organizowany jest dzięki dotacji Narodowego Centrum Kultury w ramach programu Kultura w Sieci / Więcej informacji Anińskie Towarzystwo Artystyczne \n",
            "\n",
            "https://YouTube.com/parafiaanin\n",
            "https://facebook.com/story.php?story_fbid=3509732442384628&id=161938650497374\n",
            "=============================================================================================\n",
            "\n",
            "Published 7 days ago by UMFChopin\n",
            "\n",
            "Chopin University Big Band podczas Warszawskiej Jesieni! Już w najbliższą sobotę (26.09), o godz. 19:30 :)\n",
            "Podczas koncertu zostaną wykonane utwory napisane specjalnie na Warszawską Jesień: Infectious (Feel It®) Mikołaja Laskowskiego oraz canti in/versi Joanny Woźny!\n",
            "Serdecznie zapraszamy! :)\n",
            "WARSZAWSKA-JESIEN.ART.PL\n",
            "Lorent / Widmann / CHOPIN UNIVERSITY BIG BAND / Kostrzewa / CHÓR I ORKIESTRA FILHARMONII NARODOWEJ / Michałowski / Boreyko / Tomasiewicz Międzynarodowy Festiwal Muzyki Współczesnej Warszawska Jesień \n",
            "\n",
            "https://warszawska-jesien.art.pl/2020/program-i-bilety/program/26-09/836551350\n",
            "https://facebook.com/story.php?story_fbid=605258023501013&id=224296511597168\n",
            "=============================================================================================\n",
            "\n",
            "Published 12 days ago by UMFChopin\n",
            "\n",
            "Wraz z firmą Bilety24.pl opracowaliśmy prosty i wygodny system akceptacji regulaminu UMFC oraz deklarowania stanu swojego zdrowia przed wejściem na widownię. Teraz, zanim kupimy bilet online, akceptujemy regulamin UMFC oraz drukujemy oświadczenie o stanie zdrowia. Wypełnione oświadczenie oddajemy przy wejściu na widownię. Proste?\n",
            "Koniec z długopisami w spirytusie i wypełnianiem druczków na kolanie‼️ 😷🥳\n",
            "#UMFC #UMFChopin #Bilety24 #Koncerty #Pandemia #Zdrowie #ChopinUniversity \n",
            "\n",
            "https://facebook.com/story.php?story_fbid=601952417164907&id=224296511597168\n",
            "=============================================================================================\n",
            "\n",
            "Published 16 days ago by UMFChopin\n",
            "\n",
            "Chopin University Modern Ensemble podczas 63. Festiwalu Warszawska Jesień / Warsaw Autumn!\n",
            "Już w najbliższą środę najlepsi członkowie zespołu Chopin University Modern Ensemble (CUME) wezmą udział w ekskluzywnych warsztatach muzycznych prowadzonych przez zespół Ensemble recherche – European Workshop for Contemporary Music!\n",
            "Zwieńczeniem warsztatów będzie wspólny koncert muzyków z naszej Uczelni wraz ze studentami wyłonionymi przez Deutscher Musikrat w Niemczech. Utworzą oni zespół European Workshop for Contemporary Music, który wystąpi 23 września 2020 r. o godz. 19:30 w Studiu Koncertowym im. Witolda Lutosławskiego.\n",
            "W programie koncertu, wśród utworów kompozytorów światowej sławy, takich jak… \n",
            "\n",
            "https://facebook.com/story.php?story_fbid=599451477415001&id=224296511597168\n",
            "=============================================================================================\n",
            "\n",
            "Published 16 days ago by UMFChopin\n",
            "\n",
            "Nowy sezon koncertowy już wkrótce!\n",
            "Szczegółowe informacje na www.chopin.edu.pl\n",
            "UWAGA!\n",
            "W związku z obecną sytuacją epidemiczną dystrybucja biletów i kart wstępów na koncerty odbywa się wyłącznie poprzez stronę umfc.bilety24.pl \n",
            "\n",
            "http://www.chopin.edu.pl/\n",
            "=============================================================================================\n",
            "\n",
            "Published 19 days ago by UMFChopin\n",
            "\n",
            "Zapraszamy do lektury dzisiejszej #GazetaWyborcza‼️ 📰📰📰\n",
            "W dodatku CO JEST GRANE artykuł o zbliżającym się wielkimi krokami 63. Międzynarodowym Festiwalu Muzyki Współczesnej Warszawska Jesień / Warsaw Autumn, podczas którego zaplanowanych jest wiele koncertów z udziałem artystów i pedagogów z #UMFC. 🗞🗞🗞\n",
            "#ludzieFryderyka\n",
            "#UMFC\n",
            "#UMFCwmediach \n",
            "\n",
            "https://facebook.com/story.php?story_fbid=597547867605362&id=224296511597168\n",
            "=============================================================================================\n",
            "\n"
          ],
          "name": "stdout"
        }
      ]
    },
    {
      "cell_type": "code",
      "metadata": {
        "id": "gROvxti4AMBy"
      },
      "source": [
        ""
      ],
      "execution_count": null,
      "outputs": []
    }
  ]
}