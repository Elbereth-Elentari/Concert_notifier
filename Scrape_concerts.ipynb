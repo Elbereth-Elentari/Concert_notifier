{
  "nbformat": 4,
  "nbformat_minor": 0,
  "metadata": {
    "colab": {
      "name": "Scrape_concerts.ipynb",
      "provenance": [],
      "mount_file_id": "18Ec2d3hIfF77qZ54lOu5fHLpB5bUq1TH",
      "authorship_tag": "ABX9TyNQ3IwK3q/1tE8auQmipADd",
      "include_colab_link": true
    },
    "kernelspec": {
      "name": "python3",
      "display_name": "Python 3"
    }
  },
  "cells": [
    {
      "cell_type": "markdown",
      "metadata": {
        "id": "view-in-github",
        "colab_type": "text"
      },
      "source": [
        "<a href=\"https://colab.research.google.com/github/Elbereth-Elentari/Concert_notifier/blob/master/Scrape_concerts.ipynb\" target=\"_parent\"><img src=\"https://colab.research.google.com/assets/colab-badge.svg\" alt=\"Open In Colab\"/></a>"
      ]
    },
    {
      "cell_type": "code",
      "metadata": {
        "id": "sjIaamt2MiM6"
      },
      "source": [
        "!pip3 install facebook-scraper\n",
        "from facebook_scraper import get_posts\n",
        "import datetime"
      ],
      "execution_count": null,
      "outputs": []
    },
    {
      "cell_type": "code",
      "metadata": {
        "id": "1rbqeL8TPeRj",
        "outputId": "6344053c-a98e-499c-f890-f151f3fe5e45",
        "colab": {
          "base_uri": "https://localhost:8080/",
          "height": 1000
        }
      },
      "source": [
        "max_days = int(input('How many days in the past?\\n'))\n",
        "fb_pages = ['siedlce.katedra', 'zsmsiedlce', 'Święta-Lipka-Sanktuarium-Maryjne-255326541188166',\n",
        "            'Parafia-archikatedralna-św-Jana-Chrzciciela-w-Warszawie-113494383357669',\n",
        "            'ParafiaKatedralna', 'opactwo', 'JezuiciLaskawa', 'UMFChopin',\n",
        "            'fundacjasakura', 'polskojaponska', 'Japonistyczne-Koło-Naukowe-Maru-283949834998142',\n",
        "            'BibliotekaUniwersyteckawWarszawie', 'fanpageUW', 'nippoils']\n",
        "\n",
        "time_now = datetime.datetime.now()\n",
        "\n",
        "for page in fb_pages:\n",
        "    for post in get_posts(page):\n",
        "        text = post['text']\n",
        "        if post['time'] is not None and 'koncert' in text.lower():\n",
        "            published_ago = time_now - post['time']\n",
        "            if published_ago.days <= max_days:\n",
        "                print(f'Published {published_ago.days} days ago')\n",
        "                print(page)\n",
        "                print(text)\n",
        "                print(post['link'])\n",
        "                print(post['post_url'])\n",
        "                print('=============================================================================================')"
      ],
      "execution_count": 37,
      "outputs": [
        {
          "output_type": "stream",
          "text": [
            "How many days in the past?\n",
            "90\n",
            "Published 25 days ago\n",
            "Święta-Lipka-Sanktuarium-Maryjne-255326541188166\n",
            "Reprezentacyjny Zespół Artystyczny Wojska Polskiego\n",
            "\n",
            "W piątek 4 września 2020 r. w ramach 32. Świętolipskich Wieczorów Muzycznych odbył się koncert Reprezentacyjnego Zespołu Artystycznego Wojska Polskiego, na organach grał Adam Kowalski.\n",
            "Fotorelacja: o. Leszek Gołębiewski SJ\n",
            "None\n",
            "https://facebook.com/story.php?story_fbid=3219326551454802&id=255326541188166\n",
            "=============================================================================================\n",
            "Published 36 days ago\n",
            "Święta-Lipka-Sanktuarium-Maryjne-255326541188166\n",
            "Ogłoszenia Duszpasterskie\n",
            "XXI Niedziela zwykła - 23. 08. 2020\n",
            "\n",
            "* Dziś o 18.00 odbędzie się koncert słowno-muzyczny pt. \"Polskę mam w sercu\". Został on przygotowany w ramach zbliżającej się beatyfikacji Prymasa Tysiąclecia, kardynała Stefana Wyszyńskiego, który koronował obraz Matki Bożej Świętolipskiej. Myśli i rozważania kardynała Stefana Wyszyńskiego recytować będzie znany aktor Jerzy Zelnik. Słowo dopełni muzyka kwartetu smyczkowego. Wstęp na koncert jest bezpłatny. Szczegóły na plakatach.\n",
            "* W tym tygodniu przypadają: jutro święto św. Bartłomieja Apostoła, a w środę Uroczystość Matki Bożej Częstochowskiej, oraz wspomnienia: w czwartek - św. Moniki, matki św. Augustyna; w piątek – św.… More\n",
            "None\n",
            "https://facebook.com/story.php?story_fbid=3183532155034242&id=255326541188166\n",
            "=============================================================================================\n",
            "Published 57 days ago\n",
            "Święta-Lipka-Sanktuarium-Maryjne-255326541188166\n",
            "Ogłoszenia Duszpasterskie\n",
            "XVIII Niedziela Zwykła - 2.08.2020\n",
            "\n",
            "* Podczas przeżywanej przedwczoraj uroczystości św. Ignacego Loyoli, założyciela Zakonu Jezuitów, którego członkowie posługują w świętolipskim sanktuarium, poświęciliśmy wodę św. Ignacego, którą od wieków stosują niewiasty oczekujące potomstwa. Była i jest ona używana także przeciw epidemiom. Jest ona dostępna na ołtarzu św. Ignacego wraz z folderem opisującym jej działanie i stosownymi modlitwami.\n",
            "* W czwartek będziemy przeżywali święto Przemienienia Pańskiego.\n",
            "* Najbliższy piątek jest pierwszym w miesiącu. Przed południem udamy się z Komunią Św. do chorych i starszych parafian.\n",
            "* Podczas koncertu inaugurującego XXXII… More\n",
            "None\n",
            "https://facebook.com/story.php?story_fbid=3123905450996913&id=255326541188166\n",
            "=============================================================================================\n",
            "Published 65 days ago\n",
            "Święta-Lipka-Sanktuarium-Maryjne-255326541188166\n",
            "Ogłoszenia Duszpasterskie\n",
            "XVII Niedziela Zwykła - 26.07.2020\n",
            "\n",
            "* Dziękując o. Wojciechowi Żmudzińskiemu za wygłoszone słowo zachęcamy do zaopatrzenia się w broszurę jego autorstwa, przybliżającą życiorys kandydata na ołtarze, o. Pedro Arrupe, jego wizytę w Polsce w 1969 r. oraz modlitwę o jego beatyfikację.\n",
            "* Relację z wizyty o. Arrupe w Świętej Lipce zawiera natomiast najnowszy numer naszego czasopisma „U stóp Świętolipskiej Matki”. Znajdziemy w nim także: relację z koncertu kolęd z naszego Sanktuarium, transmitowanego przez Telewizję Polsat, informację o XVIII-wiecznym Grobie Pańskim odnalezionym w naszej bazylice, relacje z ubiegłorocznych majowych i sierpniowych uroczystości odpustowych, z… More\n",
            "None\n",
            "https://facebook.com/story.php?story_fbid=3101236943263764&id=255326541188166\n",
            "=============================================================================================\n",
            "Published 20 days ago\n",
            "opactwo\n",
            "13 września o godz. 19:00 zapraszamy na finałowy koncert festiwalu OrgaNOWE Brzmienia (Parafia Matki Bożej Królowej Polski w Warszawie-Aninie). W wykonaniu ojca Bernarda Sawickiego OSB oraz Ewy i Michała Sobierów usłyszymy m.in. dzieła Sawy, Widora, a także kompozycje ojca Bernarda na motywach pieśni maryjnych. Koncert będzie transmitowany na parafialnym kanale na Youtubie (YouTube.com/parafiaanin). Koncert organizowany jest dzięki dotacji Narodowego Centrum Kultury w ramach programu Kultura w Sieci / Więcej informacji Anińskie Towarzystwo Artystyczne\n",
            "https://YouTube.com/parafiaanin\n",
            "https://facebook.com/story.php?story_fbid=3509732442384628&id=161938650497374\n",
            "=============================================================================================\n",
            "Published 7 days ago\n",
            "UMFChopin\n",
            "Chopin University Big Band podczas Warszawskiej Jesieni! Już w najbliższą sobotę (26.09), o godz. 19:30 :)\n",
            "\n",
            "Podczas koncertu zostaną wykonane utwory napisane specjalnie na Warszawską Jesień: Infectious (Feel It®) Mikołaja Laskowskiego oraz canti in/versi Joanny Woźny!\n",
            "\n",
            "Serdecznie zapraszamy! :)\n",
            "\n",
            "WARSZAWSKA-JESIEN.ART.PL\n",
            "Lorent / Widmann / CHOPIN UNIVERSITY BIG BAND / Kostrzewa / CHÓR I ORKIESTRA FILHARMONII NARODOWEJ / Michałowski / Boreyko / Tomasiewicz Międzynarodowy Festiwal Muzyki Współczesnej Warszawska Jesień\n",
            "https://warszawska-jesien.art.pl/2020/program-i-bilety/program/26-09/836551350\n",
            "https://facebook.com/story.php?story_fbid=605258023501013&id=224296511597168\n",
            "=============================================================================================\n",
            "Published 12 days ago\n",
            "UMFChopin\n",
            "Wraz z firmą Bilety24.pl opracowaliśmy prosty i wygodny system akceptacji regulaminu UMFC oraz deklarowania stanu swojego zdrowia przed wejściem na widownię. Teraz, zanim kupimy bilet online, akceptujemy regulamin UMFC oraz drukujemy oświadczenie o stanie zdrowia. Wypełnione oświadczenie oddajemy przy wejściu na widownię. Proste?\n",
            "Koniec z długopisami w spirytusie i wypełnianiem druczków na kolanie‼️ 😷🥳\n",
            "\n",
            "#UMFC #UMFChopin #Bilety24 #Koncerty #Pandemia #Zdrowie #ChopinUniversity\n",
            "None\n",
            "https://facebook.com/story.php?story_fbid=601952417164907&id=224296511597168\n",
            "=============================================================================================\n",
            "Published 16 days ago\n",
            "UMFChopin\n",
            "Chopin University Modern Ensemble podczas 63. Festiwalu Warszawska Jesień / Warsaw Autumn!\n",
            "\n",
            "Już w najbliższą środę najlepsi członkowie zespołu Chopin University Modern Ensemble (CUME) wezmą udział w ekskluzywnych warsztatach muzycznych prowadzonych przez zespół Ensemble recherche – European Workshop for Contemporary Music!\n",
            "\n",
            "Zwieńczeniem warsztatów będzie wspólny koncert muzyków z naszej Uczelni wraz ze studentami wyłonionymi przez Deutscher Musikrat w Niemczech. Utworzą oni zespół European Workshop for Contemporary Music, który wystąpi 23 września 2020 r. o godz. 19:30 w Studiu Koncertowym im. Witolda Lutosławskiego.\n",
            "\n",
            "W programie koncertu, wśród utworów kompozytorów światowej sławy, takich jak…\n",
            "None\n",
            "https://facebook.com/story.php?story_fbid=599451477415001&id=224296511597168\n",
            "=============================================================================================\n",
            "Published 16 days ago\n",
            "UMFChopin\n",
            "Nowy sezon koncertowy już wkrótce!\n",
            "Szczegółowe informacje na www.chopin.edu.pl\n",
            "\n",
            "UWAGA!\n",
            "W związku z obecną sytuacją epidemiczną dystrybucja biletów i kart wstępów na koncerty odbywa się wyłącznie poprzez stronę umfc.bilety24.pl\n",
            "http://www.chopin.edu.pl/\n",
            "None\n",
            "=============================================================================================\n",
            "Published 19 days ago\n",
            "UMFChopin\n",
            "Zapraszamy do lektury dzisiejszej #GazetaWyborcza‼️ 📰📰📰\n",
            "\n",
            "W dodatku CO JEST GRANE artykuł o zbliżającym się wielkimi krokami 63. Międzynarodowym Festiwalu Muzyki Współczesnej Warszawska Jesień / Warsaw Autumn, podczas którego zaplanowanych jest wiele koncertów z udziałem artystów i pedagogów z #UMFC. 🗞🗞🗞\n",
            "\n",
            "#ludzieFryderyka\n",
            "#UMFC\n",
            "#UMFCwmediach\n",
            "None\n",
            "https://facebook.com/story.php?story_fbid=597547867605362&id=224296511597168\n",
            "=============================================================================================\n",
            "Published 82 days ago\n",
            "UMFChopin\n",
            "YOUTUBE.COM\n",
            "Chopin Górecki Open Festiwal 2020 - Koncert inauguracyjny \"Rozmowy przy Muzyce\"\n",
            "https://www.youtube.com/watch?v=CwbOMNyFgMI\n",
            "https://facebook.com/story.php?story_fbid=558747504818732&id=224296511597168\n",
            "=============================================================================================\n"
          ],
          "name": "stdout"
        }
      ]
    },
    {
      "cell_type": "code",
      "metadata": {
        "id": "gROvxti4AMBy"
      },
      "source": [
        ""
      ],
      "execution_count": null,
      "outputs": []
    }
  ]
}